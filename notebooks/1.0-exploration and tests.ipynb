{
 "cells": [
  {
   "cell_type": "code",
   "execution_count": 61,
   "metadata": {},
   "outputs": [],
   "source": [
    "import pandas as pd\n",
    "import numpy as np\n",
    "pd.options.display.max_columns = 100\n",
    "import plotly\n",
    "import plotly.express as px\n",
    "import plotly.graph_objects as go\n",
    "import plotly.express as px\n",
    "import matplotlib.pyplot as plt\n",
    "\n",
    "from ipywidgets import interact\n",
    "import ipywidgets as widgets\n",
    "\n",
    "from sklearn.utils import shuffle\n"
   ]
  },
  {
   "cell_type": "code",
   "execution_count": 2,
   "metadata": {},
   "outputs": [],
   "source": [
    "import sys\n",
    "sys.path.append('../src/')\n",
    "import launcher\n",
    "from sklearn.neighbors import KNeighborsClassifier\n",
    "from sklearn.metrics import (accuracy_score, f1_score, log_loss)\n",
    "from sklearn.model_selection import train_test_split\n",
    "from sklearn.preprocessing import StandardScaler\n",
    "from sklearn import svm"
   ]
  },
  {
   "cell_type": "markdown",
   "metadata": {
    "heading_collapsed": true
   },
   "source": [
    "# 1) Some exploration"
   ]
  },
  {
   "cell_type": "code",
   "execution_count": 4,
   "metadata": {
    "hidden": true
   },
   "outputs": [],
   "source": [
    "df = pd.read_excel(\"../data/01_raw/tarapam.xlsx\")\n",
    "df = df.rename(columns = {\"Unnamed: 0\" : \"Sref\"})\n",
    "df_sref = pd.DataFrame(df[\"Sref\"])\n",
    "df = df.drop(\"Sref\", axis=1)\n",
    "df[\"Label\"] = 0\n",
    "df.loc[0:99,\"Label\"] = 1"
   ]
  },
  {
   "cell_type": "markdown",
   "metadata": {
    "hidden": true
   },
   "source": [
    "**Compare the distribution of each feature between the two classes : phosphate (1) and sterile (0)**"
   ]
  },
  {
   "cell_type": "code",
   "execution_count": 7,
   "metadata": {
    "hidden": true
   },
   "outputs": [
    {
     "data": {
      "application/vnd.jupyter.widget-view+json": {
       "model_id": "b7838e8260f54327b811f7400b6ed857",
       "version_major": 2,
       "version_minor": 0
      },
      "text/plain": [
       "interactive(children=(Dropdown(description='Val', options=(250, 255, 260, 265, 270, 275, 280, 285, 290, 295, 3…"
      ]
     },
     "metadata": {},
     "output_type": "display_data"
    }
   ],
   "source": [
    "@interact(\n",
    "    col=widgets.Dropdown(\n",
    "        options=df.columns,\n",
    "        value=250,\n",
    "        description='Val',\n",
    "        disabled=False\n",
    "    )\n",
    ")\n",
    "\n",
    "def f(col):    \n",
    "    data=[\n",
    "        go.Box(\n",
    "            y=df[df[\"Label\"]==e][col],\n",
    "            name=f\"Label {str(e)}\",\n",
    "            boxmean=True,\n",
    "            ) for e in [0,1]\n",
    "    ]\n",
    "    \n",
    "    fig = go.FigureWidget(data)\n",
    "    fig.show()"
   ]
  },
  {
   "cell_type": "markdown",
   "metadata": {
    "hidden": true
   },
   "source": [
    "**Trying some models without any feature selection**"
   ]
  },
  {
   "cell_type": "code",
   "execution_count": 13,
   "metadata": {
    "hidden": true
   },
   "outputs": [],
   "source": [
    "# train test split\n",
    "y = df[\"Label\"]\n",
    "X = df.drop(\"Label\",axis=1)\n",
    "X_train, X_test, y_train, y_test = train_test_split(X, y, test_size=0.33, random_state=33)"
   ]
  },
  {
   "cell_type": "markdown",
   "metadata": {
    "hidden": true
   },
   "source": [
    "**Fit and evaluate KNN model on data, without any feature selection**"
   ]
  },
  {
   "cell_type": "code",
   "execution_count": 18,
   "metadata": {
    "hidden": true
   },
   "outputs": [
    {
     "name": "stdout",
     "output_type": "stream",
     "text": [
      "Train accuracy score : 0.8938053097345132\n",
      "Test accuracy score : 0.7142857142857143\n"
     ]
    }
   ],
   "source": [
    "knn = KNeighborsClassifier(n_neighbors=3)\n",
    "knn.fit(X_train, y_train)\n",
    "y_pred = knn.predict(X_test)\n",
    "print(f\"Train accuracy score : {accuracy_score(y_train, knn.predict(X_train))}\")\n",
    "print(f\"Test accuracy score : {accuracy_score(y_test, y_pred)}\")"
   ]
  },
  {
   "cell_type": "markdown",
   "metadata": {
    "hidden": true
   },
   "source": [
    "**Fit and evaluate SVM model on data, without any feature selection**"
   ]
  },
  {
   "cell_type": "code",
   "execution_count": 19,
   "metadata": {
    "hidden": true
   },
   "outputs": [
    {
     "name": "stdout",
     "output_type": "stream",
     "text": [
      "Train accuracy score : 0.8938053097345132\n",
      "Test accuracy score : 0.7321428571428571\n"
     ]
    }
   ],
   "source": [
    "scaler = StandardScaler()\n",
    "x_train_svm = scaler.fit_transform(X_train)\n",
    "x_test_svm = scaler.transform(X_test)\n",
    "svm_clf = svm.SVC(kernel=\"rbf\")\n",
    "svm_clf.fit(x_train_svm, y_train)\n",
    "y_pred_svm = svm_clf.predict(x_test_svm)\n",
    "print(f\"Train accuracy score : {accuracy_score(y_train, svm_clf.predict(x_train_svm))}\")\n",
    "print(f\"Test accuracy score : {accuracy_score(y_test, y_pred_svm)}\")"
   ]
  },
  {
   "cell_type": "markdown",
   "metadata": {
    "heading_collapsed": true
   },
   "source": [
    "# 2) Visualize feature impact in classifying the samples"
   ]
  },
  {
   "cell_type": "code",
   "execution_count": 49,
   "metadata": {
    "hidden": true
   },
   "outputs": [
    {
     "data": {
      "application/vnd.jupyter.widget-view+json": {
       "model_id": "3af06fa9c7c94f15bf524a6520923d7b",
       "version_major": 2,
       "version_minor": 0
      },
      "text/plain": [
       "interactive(children=(Dropdown(description='feature 1', options=(250, 255, 260, 265, 270, 275, 280, 285, 290, …"
      ]
     },
     "metadata": {},
     "output_type": "display_data"
    }
   ],
   "source": [
    "@interact(\n",
    "    col1=widgets.Dropdown(\n",
    "        options=df.columns,\n",
    "        value=250,\n",
    "        description='feature 1',\n",
    "        disabled=False\n",
    "    )\n",
    ")\n",
    "\n",
    "def f(col1): \n",
    "    @interact(\n",
    "    col2=widgets.Dropdown(\n",
    "        options=df.columns,\n",
    "        value=500,\n",
    "        description='feature 2',\n",
    "        disabled=False\n",
    "        )\n",
    "    )\n",
    "    def g(col2): \n",
    "        @interact(\n",
    "        col3=widgets.Dropdown(\n",
    "            options=df.columns,\n",
    "            value=1000,\n",
    "            description='feature 3',\n",
    "            disabled=False\n",
    "            )\n",
    "        )\n",
    "        def h(col3):\n",
    "            df_plot = df[[col1,col2,col3,\"Label\"]]\n",
    "            df_plot = df_plot.rename(columns = {col1:str(col1), col2:str(col2), col3:str(col3)})\n",
    "            fig = px.scatter_3d(df_plot,\n",
    "                    x=str(col1),\n",
    "                    y=str(col2),\n",
    "                    z=str(col3),\n",
    "                    color='Label', \n",
    "                    )\n",
    "            fig.show()"
   ]
  },
  {
   "cell_type": "markdown",
   "metadata": {},
   "source": [
    "# 3) Analysinf main run results"
   ]
  },
  {
   "cell_type": "code",
   "execution_count": 117,
   "metadata": {},
   "outputs": [],
   "source": [
    "#model = launcher.run()"
   ]
  }
 ],
 "metadata": {
  "kernelspec": {
   "display_name": "Python 3",
   "language": "python",
   "name": "python3"
  },
  "language_info": {
   "codemirror_mode": {
    "name": "ipython",
    "version": 3
   },
   "file_extension": ".py",
   "mimetype": "text/x-python",
   "name": "python",
   "nbconvert_exporter": "python",
   "pygments_lexer": "ipython3",
   "version": "3.7.5"
  }
 },
 "nbformat": 4,
 "nbformat_minor": 2
}
